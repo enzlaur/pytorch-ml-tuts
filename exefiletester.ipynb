{
 "metadata": {
  "language_info": {
   "codemirror_mode": {
    "name": "ipython",
    "version": 3
   },
   "file_extension": ".py",
   "mimetype": "text/x-python",
   "name": "python",
   "nbconvert_exporter": "python",
   "pygments_lexer": "ipython3",
   "version": "3.9.1-final"
  },
  "orig_nbformat": 2,
  "kernelspec": {
   "name": "python3",
   "display_name": "Python 3.9.1 64-bit",
   "metadata": {
    "interpreter": {
     "hash": "e922dd073470bdcc017ae3abd31d6491d6ed7bf31c1d559806e5511bfea88b81"
    }
   }
  }
 },
 "nbformat": 4,
 "nbformat_minor": 2,
 "cells": [
  {
   "cell_type": "code",
   "execution_count": 6,
   "metadata": {
    "tags": []
   },
   "outputs": [
    {
     "output_type": "stream",
     "name": "stdout",
     "text": [
      "Opening file: C:/Users/laure/Developer/NSTDB ECG GENERATOR/nativelibs/windows/bin/nst.exe\n",
      "Timeout is: 10\n",
      "Entered try \n",
      "\n",
      "Entered timeout: \n",
      "\n",
      "Process Killed in 10s: \n",
      "Out:  \n",
      "Err: \n",
      "Timeout Expired  - Return code: 1\n"
     ]
    }
   ],
   "source": [
    "import os, subprocess\n",
    "from subprocess import Popen, PIPE, run\n",
    "\n",
    "# File to be called\n",
    "cmd_call = \"C:/Users/laure/Developer/NSTDB ECG GENERATOR/nativelibs/windows/bin/nst.exe\"\n",
    "# timeout length to be used (in seconds)\n",
    "to_len = 10\n",
    "to_send = \"\"\"103\n",
    "\"\"\"\n",
    "p1 = Popen( [cmd_call],\n",
    "            stdin=PIPE,\n",
    "            stdout=PIPE,\n",
    "            stderr= PIPE,\n",
    "            text=True,\n",
    "            )\n",
    "\n",
    "print( f\"Opening file: {cmd_call}\")\n",
    "print( f\"Timeout is: {to_len}\")\n",
    "\n",
    "try:                   \n",
    "    print( f'Entered try \\n')     \n",
    "    outs, errs = p1.communicate( input=to_send, timeout=to_len )[0] #input='103\\nem\\n103e03\\n3\\n'\n",
    "    print( f'Out: {outs} \\nErr: {errs}\\n')\n",
    "    print( f'exited try')\n",
    "    p1.kill()\n",
    "except subprocess.TimeoutExpired:\n",
    "    print( f'Entered timeout: \\n')\n",
    "    p1.kill()\n",
    "    outs,errs = p1.communicate()\n",
    "    print( f'Process Killed in {to_len}s: \\nOut: {outs} \\nErr: {errs}')\n",
    "    print( f'Timeout Expired  - Return code: {p1.returncode}')\n",
    "except:\n",
    "    print( \"unknown error occured \")\n",
    "    p1.kill()\n",
    "\n",
    "\n"
   ]
  },
  {
   "cell_type": "code",
   "execution_count": 5,
   "metadata": {},
   "outputs": [
    {
     "output_type": "execute_result",
     "data": {
      "text/plain": [
       "'103\\n'"
      ]
     },
     "metadata": {},
     "execution_count": 5
    }
   ],
   "source": [
    "to_send"
   ]
  },
  {
   "cell_type": "code",
   "execution_count": 1,
   "metadata": {
    "tags": []
   },
   "outputs": [
    {
     "output_type": "stream",
     "name": "stdout",
     "text": [
      "\n\n"
     ]
    }
   ],
   "source": [
    "# In [1]: import subprocess \n",
    "#    ...: mystr = ''' \n",
    "#    ...: one \n",
    "#    ...: two \n",
    "#    ...: three''' \n",
    "#    ...:  \n",
    "#    ...: cp = subprocess.run('sort', input=mystr, text=True, capture_output=True) \n",
    "#    ...: print(cp.stdout)                                                                                                                                                                                           \n",
    "\n",
    "import os, subprocess\n",
    "from subprocess import Popen, PIPE, run\n",
    "\n",
    "# File to be called\n",
    "cmd_call = \"C:/Users/laure/Developer/NSTDB ECG GENERATOR/nativelibs/windows/bin/nst.exe\"\n",
    "# timeout length to be used (in seconds)\n",
    "to_len = 11\n",
    "to_send = '''103\n",
    "\n",
    "\n",
    "em\n",
    "103e03\n",
    "3\n",
    "\n",
    "\n",
    "'''\n",
    "\n",
    "p1 = run([cmd_call],\n",
    "         input=to_send,\n",
    "         text=True,\n",
    "         capture_output=True\n",
    "        )\n",
    "print( p1.stdout )\n",
    "print( p1.stderr)"
   ]
  },
  {
   "cell_type": "code",
   "execution_count": 32,
   "metadata": {},
   "outputs": [],
   "source": [
    "p1.stderr"
   ]
  },
  {
   "cell_type": "code",
   "execution_count": 8,
   "metadata": {},
   "outputs": [
    {
     "output_type": "execute_result",
     "data": {
      "text/plain": [
       " record `'\\r\\nEnter the name of the reference annotator: Can't read annotator `' for record `'\\r\\nEnter the name of the reference annotator: Can't read annotator `' for record `'\\r\\nEnter the name of the reference annotator: Can't read annotator `' for record `'\\r\\nEnter the name of the reference annotator: Can't read annotator `' for record `'\\r\\nEnter the name of the reference annotator: Can't read annotator `' for record `'\\r\\nEnter the name of the reference annotator: Can't read annotator `' for record `'\\r\\nEnter the name of the reference annotator: Can't read annotator `' for record `'\\r\\nEnter the name of the reference annotator: Can't read annotator `' for record `'\\r\\nEnter the name of the reference annotator: Can't read annotator `' for record `'\\r\\nEnter the name of the reference annotator: Can't read annotator `' for record `'\\r\\nEnter the name of the reference annotator: Can't read annotator `' for record `'\\r\\nEnter the name of the reference annotator: Can't read annotator `' for record `'\\r\\nEnter the name of the reference annotator: Can't read annotator `' for record `'\\r\\nEnter the name of the reference annotator: Can't read annotator `' for record `'\\r\\nEnter the name of the reference annotator: Can't read annotator `' for record `'\\r\\nEnter the name of the reference annotator: Can't read annotator `' for record `'\\r\\nEnter the name of the reference annotator: Can't read annotator `' for record `'\\r\\nEnter the name of the reference annotator: Can't read annotator `' for record `'\\r\\nEnter the name of the reference annotator: Can't read annotator `' for record `'\\r\\nEnter the name of the reference annotator: Can't read annotator `' for record `'\\r\\nEnter the name of the reference annotator: Can't read annotator `' for record `'\\r\\nEnter the name of the reference annotator: Can't read annotator `' for record `'\\r\\nEnter the name of the reference annotator: Can't read annotator `' for record `'\\r\\nEnter the name of the reference annotator: Can't read annotator `' for record `'\\r\\nEnter the name of the reference annotator: Can't read annotator `' for record `'\\r\\nEnter the name of the reference annotator: Can't read annotator `' for record `'\\r\\nEnter the name of the reference annotator: Can't read annotator `' for record `'\\r\\nEnter the name of the reference annotator: Can't read annotator `' for record `'\\r\\nEnter the name of the reference annotator: Can't read annotator `' for record `'\\r\\nEnter the name of the reference annotator: Can't read annotator `' for record `'\\r\\nEnter the name of the reference annotator: Can't read annotator `' for record `'\\r\\nEnter the name of the reference annotator: Can't read annotator `' for record `'\\r\\nEnter the name of the reference annotator: Can't read annotator `' for record `'\\r\\nEnter the name of the reference annotator: Can't read annotator `' for record `'\\r\\nEnter the name of the reference annotator: Can't read annotator `' for record `'\\r\\nEnter the name of the reference annotator: Can't read annotator `' for record `'\\r\\nEnter the name of the reference annotator: Can't read annotator `' for record `'\\r\\nEnter the name of the reference annotator: Can't read annotator `' for record `'\\r\\nEnter the name of the reference annotator: Can't read annotator `' for record `'\\r\\nEnter the name of the reference annotator: Can't read annotator `' for record `'\\r\\nEnter the name of the reference annotator: Can't read annotator `' for record `'\\r\\nEnter the name of the reference annotator: Can't read annotator `' for record `'\\r\\nEnter the name of the reference annotator: Can't read annotator `' for record `'\\r\\nEnter the name of the reference annotator: Can't read annotator `' for record `'\\r\\nEnter the name of the reference annotator: Can't read annotator `' for record `'\\r\\nEnter the name of the reference annotator: Can't read annotator `' for record `'\\r\\nEnter the name of the reference annotator: Can't read annotator `' for record `'\\r\\nEnter the name of the reference annotator: Can't read annotator `' for record `'\\r\\nEnter the name of the reference annotator: Can't read annotator `' for record `'\\r\\nEnter the name of the reference annotator: Can't read annotator `' for record `'\\r\\nEnter the name of the reference annotator: Can't read annotator `' for record `'\\r\\nEnter the name of the reference annotator: Can't read annotator `' for record `'\\r\\nEnter the name of the reference annotator: Can't read annotator `' for record `'\\r\\nEnter the name of the reference annotator: Can't read annotator `' for record `'\\r\\nEnter the name of the reference annotator: Can't read annotator `' for record `'\\r\\nEnter the name of the reference annotator: Can't read annotator `' for record `'\\r\\nEnter the name of the reference annotator: Can't read annotator `' for record `'\\r\\nEnter the name of the reference annotator: Can't read annotator `' for record `'\\r\\nEnter the name of the reference annotator: Can't read annotator `' for record `'\\r\\nEnter the name of the reference annotator: Can't read annotator `' for record `'\\r\\nEnter the name of the reference annotator: Can't read annotator `' for record `'\\r\\nEnter the name of the reference annotator: Can't read annotator `' for record `'\\r\\nEnter the name of the reference annotator: Can't read annotator `' for record `'\\r\\nEnter the name of the reference annotator: Can't read annotator `' for record `'\\r\\nEnter the name of the reference annotator: Can't read annotator `' for record `'\\r\\nEnter the name of the reference annotator: Can't read annotator `' for record `'\\r\\nEnter the name of the reference annotator: Can't read annotator `' for record `'\\r\\nEnter the name of the reference annotator: Can't read annotator `' for record `'\\r\\nEnter the name of the reference annotator: Can't read annotator `' for record `'\\r\\nEnter the name of the reference annotator: Can't read annotator `' for record `'\\r\\nEnter the name of the reference annotator: Can't read annotator `' for record `'\\r\\nEnter the name of the reference annotator: Can't read annotator `' for record `'\\r\\nEnter the name of the reference annotator: Can't read annotator `' for record `'\\r\\nEnter the name of the reference annotator: Can't read annotator `' for record `'\\r\\nEnter the name of the reference annotator: Can't read annotator `' for record `'\\r\\nEnter the name of the reference annotator: Can't read annotator `' for record `'\\r\\nEnter the name of the reference annotator: Can't read annotator `' for record `'\\r\\nEnter the name of the reference annotator: Can't read annotator `' for record `'\\r\\nEnter the name of the reference annotator: Can't read annotator `' for record `'\\r\\nEnter the name of the reference annotator: Can't read annotator `' for record `'\\r\\nEnter the name of the reference annotator: Can't read annotator `' for record `'\\r\\nEnter the name of the reference annotator: Can't read annotator `' for record `'\\r\\nEnter the name of the reference annotator: Can't read annotator `' for record `'\\r\\nEnter the name of the reference annotator: Can't read annotator `' for record `'\\r\\nEnter the name of the reference annotator: Can't read annotator `' for record `'\\r\\nEnter the name of the reference annotator: Can't read annotator `' for record `'\\r\\nEnter the name of the reference annotator: Can't read annotator `' for record `'\\r\\nEnter the name of the reference annotator: Can't read annotator `' for record `'\\r\\nEnter the name of the reference annotator: Can't read annotator `' for record `'\\r\\nEnter the name of the reference annotator: Can't read annotator `' for record `'\\r\\nEnter the name of the reference annotator: Can't read annotator `' for record `'\\r\\nEnter the name of the reference annotator: Can't read annotator `' for record `'\\r\\nEnter the name of the reference annotator: Can't read annotator `' for record `'\\r\\nEnter the name of the reference annotator: Can't read annotator `' for record `'\\r\\nEnter the name of the reference annotator: Can't read annotator `' for record `'\\r\\nEnter the name of the reference annotator: Can't read annotator `' for record `'\\r\\nEnter the name of the reference annotator: Can't read annotator `' for record `'\\r\\nEnter the name of the reference annotator: Can't read annotator `' for record `'\\r\\nEnter the name of the reference annotator: Can't read annotator `' for record `'\\r\\nEnter the name of the reference annotator: Can't read annotator `' for record `'\\r\\nEnter the name of the reference annotator: Can't read annotator `' for record `'\\r\\nEnter the name of the reference annotator: Can't read annotator `' for record `'\\r\\nEnter the name of the reference annotator: Can't read annotator `' for record `'\\r\\nEnter the name of the reference annotator: Can't read annotator `' for record `'\\r\\nEnter the name of the reference annotator: Can't read annotator `' for record `'\\r\\nEnter the name of the reference annotator: Can't read annotator `' for record `'\\r\\nEnter the name of the reference annotator: Can't read annotator `' for record `'\\r\\nEnter the name of the reference annotator: Can't read annotator `' for record `'\\r\\nEnter the name of the reference annotator: Can't read annotator `' for record `'\\r\\nEnter the name of the reference annotator: Can't read annotator `' for record `'\\r\\nEnter the name of the reference annotator: Can't read annotator `' for record `'\\r\\nEnter the name of the reference annotator: Can't read annotator `' for record `'\\r\\nEnter the name of the reference annotator: Can't read annotator `' for record `'\\r\\nEnter the name of the reference annotator: Can't read annotator `' for record `'\\r\\nEnter the name of the reference annotator: Can't read annotator `' for record `'\\r\\nEnter the name of the reference annotator: Can't read annotator `' for record `'\\r\\nEnter the name of the reference annotator: Can't read annotator `' for record `'\\r\\nEnter the name of the reference annotator: Can't read annotator `' for record `'\\r\\nEnter the name of the reference annotator: Can't read annotator `' for record `'\\r\\nEnter the name of the reference annotator: Can't read annotator `' for record `'\\r\\nEnter the name of the reference annotator: Can't read annotator `' for record `'\\r\\nEnter the name of the reference annotator: Can't read annotator `' for record `'\\r\\nEnter the name of the reference annotator: Can't read annotator `' for record `'\\r\\nEnter the name of the reference annotator: Can't read annotator `' for record `'\\r\\nEnter the name of the reference annotator: Can't read annotator `' for record `'\\r\\nEnter the name of the reference annotator: Can't read annotator `' for record `'\\r\\nEnter the name of the reference annotator: Can't read annotator `' for record `'\\r\\nEnter the name of the reference annotator: Can't read annotator `' for record `'\\r\\nEnter the name of the reference annotator: Can't read annotator `' for record `'\\r\\nEnter the name of the reference annotator: Can't read annotator `' for record `'\\r\\nEnter the name of the reference annotator: Can't read annotator `' for record `'\\r\\nEnter the name of the reference annotator: Can't read annotator `' for record `'\\r\\nEnter the name of the reference annotator: Can't read annotator `' for record `'\\r\\nEnter the name of the reference annotator: Can't read annotator `' for record `'\\r\\nEnter the name of the reference annotator: Can't read annotator `' for record `'\\r\\nEnter the name of the reference annotator: Can't read annotator `' for record `'\\r\\nEnter the name of the reference annotator: Can't read annotator `' for record `'\\r\\nEnter the name of the reference annotator: Can't read annotator `' for record `'\\r\\nEnter the name of the reference annotator: Can't read annotator `' for record `'\\r\\nEnter the name of the reference annotator: Can't read annotator `' for record `'\\r\\nEnter the name of the reference annotator: Can't read annotator `' for record `'\\r\\nEnter the name of the reference annotator: Can't read annotator `' for record `'\\r\\nEnter the name of the reference annotator: Can't read annotator `' for record `'\\r\\nEnter the name of the reference annotator: Can't read annotator `' for record `'\\r\\nEnter the name of the reference annotator: Can't read annotator `' for record `'\\r\\nEnter the name of the reference annotator: Can't read annotator `' for record `'\\r\\nEnter the name of the reference annotator: Can't read annotator `' for record `'\\r\\nEnter the name of the reference annotator: Can't read annotator `' for record `'\\r\\nEnter the name of the reference annotator: Can't read annotator `' for record `'\\r\\nEnter the name of the reference annotator: Can't read annotator `' for record `'\\r\\nEnter the name of the reference annotator: Can't read annotator `' for record `'\\r\\nEnter the name of the reference annotator: Can't read annotator `' for record `'\\r\\nEnter the name of the reference annotator: Can't read annotator `' for record `'\\r\\nEnter the name of the reference annotator: Can't read annotator `' for record `'\\r\\nEnter the name of the reference annotator: Can't read annotator `' for record `'\\r\\nEnter the name of the reference annotator: Can't read annotator `' for record `'\\r\\nEnter the name of the reference annotator: Can't read annotator `' for record `'\\r\\nEnter the name of the reference annotator: Can't read annotator `' for record `'\\r\\nEnter the name of the reference annotator: Can't read annotator `' for record `'\\r\\nEnter the name of the reference annotator: Can't read annotator `' for record `'\\r\\nEnter the name of the reference annotator: Can't read annotator `' for record `'\\r\\nEnter the name of the reference annotator: Can't read annotator `' for record `'\\r\\nEnter the name of the reference annotator: Can't read annotator `' for record `'\\r\\nEnter the name of the reference annotator: Can't read annotator `' for record `'\\r\\nEnter the name of the reference annotator: Can't read annotator `' for record `'\\r\\nEnter the name of the reference annotator: Can't read annotator `' for record `'\\r\\nEnter the name of the reference annotator: Can't read annotator `' for record `'\\r\\nEnter the name of the reference annotator: Can't read annotator `' for record `'\\r\\nEnter the name of the reference annotator: Can't read annotator `' for record `'\\r\\nEnter the name of the reference annotator: Can't read annotator `' for record `'\\r\\nEnter the name of the reference annotator: Can't read annotator `' for record `'\\r\\nEnter the name of the reference annotator: Can't read annotator `' for record `'\\r\\nEnter the name of the reference annotator: Can't read annotator `' for record `'\\r\\nEnter the name of the reference annotator: Can't read annotator `' for record `'\\r\\nEnter the name of the reference annotator: Can't read annotator `' for record `'\\r\\nEnter the name of the reference annotator: Can't read annotator `' for record `'\\r\\nEnter the name of the reference annotator: Can't read annotator `' for record `'\\r\\nEnter the name of the reference annotator: Can't read annotator `' for record `'\\r\\nEnter the name of the reference annotator: Can't read annotator `' for record `'\\r\\nEnter the name of the reference annotator: Can't read annotator `' for record `'\\r\\nEnter the name of the reference annotator: Can't read annotator `' for record `'\\r\\nEnter the name of the reference annotator: Can't read annotator `' for record `'\\r\\nEnter the name of the reference annotator: Can't read annotator `' for record `'\\r\\nEnter the name of the reference annotator: Can't read annotator `' for record `'\\r\\nEnter the name of the reference annotator: Can't read annotator `' for record `'\\r\\nEnter the name of the reference annotator: Can't read annotator `' for record `'\\r\\nEnter the name of the reference annotator: Can't read annotator `' for record `'\\r\\nEnter the name of the reference annotator: Can't read annotator `' for record `'\\r\\nEnter the name of the reference annotator: Can't read annotator `' for record `'\\r\\nEnter the name of the reference annotator: Can't read annotator `' for record `'\\r\\nEnter the name of the reference annotator: Can't read annotator `' for record `'\\r\\nEnter the name of the reference annotator: Can't read annotator `' for record `'\\r\\nEnter the name of the reference annotator: Can't read annotator `' for record `'\\r\\nEnter the name of the reference annotator: Can't read annotator `' for record `'\\r\\nEnter the name of the reference annotator: Can't read annotator `' for record `'\\r\\nEnter the name of the reference annotator: Can't read annotator `' for record `'\\r\\nEnter the name of the reference annotator: Can't read annotator `' for record `'\\r\\nEnter the name of the reference annotator: Can't read annotator `' for record `'\\r\\nEnter the name of the reference annotator: Can't read annotator `' for record `'\\r\\nEnter the name of the reference annotator: Can't read annotator `' for record `'\\r\\nEnter the name of the reference annotator: Can't read annotator `' for record `'\\r\\nEnter the name of the reference annotator: Can't read annotator `' for record `'\\r\\nEnter the name of the reference annotator: Can't read annotator `' for record `'\\r\\nEnter the name of the reference annotator: Can't read annotator `' for record `'\\r\\nEnter the name of the reference annotator: Can't read annotator `' for record `'\\r\\nEnter the name of the reference annotator: Can't read annotator `' for record `'\\r\\nEnter the name of the reference annotator: Can't read annotator `' for record `'\\r\\nEnter the name of the reference annotator: Can't read annotator `' for record `'\\r\\nEnter the name of the reference annotator: Can't read annotator `' for record `'\\r\\nEnter the name of the reference annotator: Can't read annotator `' for record `'\\r\\nEnter the name of the reference annotator: Can't read annotator `' for record `'\\r\\nEnter the name of the reference annotator: Can't read annotator `' for record `'\\r\\nEnter the name of the reference annotator: Can't read annotator `' for record `'\\r\\nEnter the name of the reference annotator: Can't read annotator `' for record `'\\r\\nEnter the name of the reference annotator: Can't read annotator `' for record `'\\r\\nEnter the name of the reference annotator: Can't read annotator `' for record `'\\r\\nEnter the name of the reference annotator: Can't read annotator `' for record `'\\r\\nEnter the name of the reference annotator: Can't read annotator `' for record `'\\r\\nEnter the name of the reference annotator: Can't read annotator `' for record `'\\r\\nEnter the name of the reference annotator: Can't read annotator `' for record `'\\r\\nEnter the name of the reference annotator: Can't read annotator `' for record `'\\r\\nEnter the name of the reference annotator: Can't read annotator `' for record `'\\r\\nEnter the name of the reference annotator: Can't read annotator `' for record `'\\r\\nEnter the name of the reference annotator: Can't read annotator `' for record `'\\r\\nEnter the name of the reference annotator: Can't read annotator `' for record `'\\r\\nEnter the name of the reference annotator: Can't read annotator `' for record `'\\r\\nEnter the name of the reference annotator: Can't read annotator `' for record `'\\r\\nEnter the name of the reference annotator: Can't read annotator `' for record `'\\r\\nEnter the name of the reference annotator: Can't read annotator `' for record `'\\r\\nEnter the name of the reference annotator: Can't read annotator `' for record `'\\r\\nEnter the name of the reference annotator: Can't read annotator `' for record `'\\r\\nEnter the name of the reference annotator: Can't read annotator `' for record `'\\r\\nEnter the name of the reference annotator: Can't read annotator `' for record `'\\r\\nEnter the name of the reference annotator: Can't read annotator `' for record `'\\r\\nEnter the name of the reference annotator: Can't read annotator `' for record `'\\r\\nEnter the name of the reference annotator: Can't read annotator `' for record `'\\r\\nEnter the name of the reference annotator: Can't read annotator `' for record `'\\r\\nEnter the name of the reference annotator: Can't read annotator `' for recor\")"
      ]
     },
     "metadata": {},
     "execution_count": 8
    }
   ],
   "source": [
    "subprocess.run([cmd_call], capture_output=True)"
   ]
  },
  {
   "cell_type": "code",
   "execution_count": null,
   "metadata": {},
   "outputs": [],
   "source": [
    "subprocess.run([\"C:/Users/laure/Developer/NSTDB ECG GENERATOR/nativelibs/windows/bin/nst.exe\", \"103\", \"em\", \"102e03\", \"3\"], shell=True)"
   ]
  },
  {
   "cell_type": "code",
   "execution_count": null,
   "metadata": {},
   "outputs": [],
   "source": [
    "process = subprocess.Popen([cmd_call,\"103\", \"em\", \"102e03\", \"3\"], stdin=\"\", stdout=subprocess.PIPE)#, creationflags=0x08000000)\n",
    "process.stdin=\"104\"\n",
    "process.stdin=\"em\"\n",
    "process.stdin=\"104e03\"\n",
    "process.stdin=\"3\"\n",
    "process.wait()"
   ]
  },
  {
   "cell_type": "code",
   "execution_count": null,
   "metadata": {},
   "outputs": [],
   "source": [
    "subprocess.Popen([cmd_call],stdout=subprocess.PIPE,stderr=subprocess.PIPE,shell=True).communicate()"
   ]
  },
  {
   "cell_type": "code",
   "execution_count": null,
   "metadata": {},
   "outputs": [],
   "source": [
    "# import os\n",
    "# from subprocess import Popen, PIPE\n",
    "\n",
    "# p = Popen('fortranExecutable', stdin=PIPE) #NOTE: no shell=True here\n",
    "# p.communicate(os.linesep.join([\"input 1\", \"input 2\"]))"
   ]
  },
  {
   "cell_type": "code",
   "execution_count": null,
   "metadata": {},
   "outputs": [],
   "source": [
    "import os, subprocess\n",
    "# from subprocess import Popen, PIPE, run\n",
    "\n",
    "cmd_call = \"C:/Users/laure/Developer/NSTDB ECG GENERATOR/nativelibs/windows/bin/nst.exe\""
   ]
  },
  {
   "cell_type": "code",
   "execution_count": null,
   "metadata": {},
   "outputs": [],
   "source": [
    "import os, subprocess\n",
    "from subprocess import Popen, PIPE, run\n",
    "\n",
    "cmd_call = \"C:/Users/laure/Developer/NSTDB ECG GENERATOR/nativelibs/windows/bin/nst.exe\"\n",
    "\n",
    "proc_1 = subprocess.run( [cmd_call], text=True, stdin=PIPE, shell=True, stdout=PIPE )\n",
    "# proc_1.communicate(os.linesep.join( [\"103\", \"em\", \"103e03\", \"3\"] ) )\n",
    "output = proc_1.communicate( input=\"103\".encode())[0]\n",
    "output = proc_1.communicate( input=\"em\".encode())[0]\n",
    "output = proc_1.communicate( input=\"103e03\".encode())[0]\n",
    "output = proc_1.communicate( input=\"3\".encode())[0]\n"
   ]
  },
  {
   "cell_type": "code",
   "execution_count": null,
   "metadata": {},
   "outputs": [],
   "source": [
    "\n",
    "# run( [cmd_call, \"103\\nem\\n103e03\\n3\\n\"],\n",
    "#         text=True,\n",
    "#         capture_output=True\n",
    "#         )\n",
    "       \n",
    "# p1 = Popen( [cmd_call],\n",
    "#             stdin=PIPE,\n",
    "#             stdout=PIPE,\n",
    "#             universal_newlines=True,\n",
    "#             stderr=PIPE,\n",
    "#             text=True)\n",
    "# p1.communicate( input='103\\nem\\n103e03\\n3\\n' )[0]\n"
   ]
  }
 ]
}