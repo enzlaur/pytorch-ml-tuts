{
 "metadata": {
  "language_info": {
   "codemirror_mode": {
    "name": "ipython",
    "version": 3
   },
   "file_extension": ".py",
   "mimetype": "text/x-python",
   "name": "python",
   "nbconvert_exporter": "python",
   "pygments_lexer": "ipython3",
   "version": "3.9.1-final"
  },
  "orig_nbformat": 2,
  "kernelspec": {
   "name": "python3",
   "display_name": "Python 3.9.1 64-bit",
   "metadata": {
    "interpreter": {
     "hash": "e922dd073470bdcc017ae3abd31d6491d6ed7bf31c1d559806e5511bfea88b81"
    }
   }
  }
 },
 "nbformat": 4,
 "nbformat_minor": 2,
 "cells": [
  {
   "cell_type": "code",
   "execution_count": 3,
   "metadata": {},
   "outputs": [],
   "source": [
    "import subprocess"
   ]
  },
  {
   "cell_type": "code",
   "execution_count": 11,
   "metadata": {},
   "outputs": [
    {
     "output_type": "execute_result",
     "data": {
      "text/plain": [
       "CompletedProcess(args=['C:/Users/laure/Developer/NSTDB ECG GENERATOR/nativelibs/windows/bin/nst.exe', '103', 'em', '102e03', '3'], returncode=1)"
      ]
     },
     "metadata": {},
     "execution_count": 11
    }
   ],
   "source": [
    "subprocess.run([\"C:/Users/laure/Developer/NSTDB ECG GENERATOR/nativelibs/windows/bin/nst.exe\", \"103\", \"em\", \"102e03\", \"3\"])"
   ]
  },
  {
   "cell_type": "code",
   "execution_count": null,
   "metadata": {},
   "outputs": [],
   "source": []
  },
  {
   "cell_type": "code",
   "execution_count": 1,
   "metadata": {},
   "outputs": [],
   "source": [
    "cmd_call = \"C:/Users/laure/Developer/NSTDB ECG GENERATOR/nativelibs/windows/bin/nst.exe\""
   ]
  },
  {
   "cell_type": "code",
   "execution_count": 25,
   "metadata": {},
   "outputs": [
    {
     "output_type": "execute_result",
     "data": {
      "text/plain": [
       "1"
      ]
     },
     "metadata": {},
     "execution_count": 25
    }
   ],
   "source": [
    "process = subprocess.Popen([cmd_call,\"103\", \"em\", \"102e03\", \"3\"], stdin=\"\", stdout=subprocess.PIPE)#, creationflags=0x08000000)\n",
    "process.stdin=\"104\"\n",
    "process.stdin=\"em\"\n",
    "process.stdin=\"104e03\"\n",
    "process.stdin=\"3\"\n",
    "process.wait()"
   ]
  },
  {
   "cell_type": "code",
   "execution_count": 5,
   "metadata": {},
   "outputs": [],
   "source": [
    "# subprocess.Popen([cmd_call],stdout=subprocess.PIPE,stderr=subprocess.PIPE,shell=True).communicate()"
   ]
  },
  {
   "cell_type": "code",
   "execution_count": null,
   "metadata": {},
   "outputs": [],
   "source": []
  }
 ]
}