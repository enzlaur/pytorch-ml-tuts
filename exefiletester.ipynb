{
 "metadata": {
  "language_info": {
   "codemirror_mode": {
    "name": "ipython",
    "version": 3
   },
   "file_extension": ".py",
   "mimetype": "text/x-python",
   "name": "python",
   "nbconvert_exporter": "python",
   "pygments_lexer": "ipython3",
   "version": "3.9.1-final"
  },
  "orig_nbformat": 2,
  "kernelspec": {
   "name": "python3",
   "display_name": "Python 3.9.1 64-bit",
   "metadata": {
    "interpreter": {
     "hash": "e922dd073470bdcc017ae3abd31d6491d6ed7bf31c1d559806e5511bfea88b81"
    }
   }
  }
 },
 "nbformat": 4,
 "nbformat_minor": 2,
 "cells": [
  {
   "source": [
    "# READ\n",
    "\n",
    "Make sure to have this file pasted in the native library/windows/bin where the nst.exe lives (also all the other files as well)"
   ],
   "cell_type": "markdown",
   "metadata": {}
  },
  {
   "cell_type": "code",
   "execution_count": null,
   "metadata": {},
   "outputs": [],
   "source": [
    "# THIS SEEMS TO WORK IF IT CAN PROPERLY READ THE HEADER FILES\n",
    "\n",
    "import os, subprocess\n",
    "from subprocess import Popen, PIPE, run\n",
    "\n",
    "# File to be called\n",
    "cmd_call = \"nst.exe\"\n",
    "\n",
    "# available_ds = [100, 101, 102, 103, 104, 105, 106, 107, 108, 109, 111, 112, 113, 114, 115, 116, 117, 118, 119, 121, 122, 123, 124, 200, 201, 202, 203, 205, 207, 208, 209, 210, 212, 213, 214, 215, 217, 219, 220, 221, 222, 223, 228, 230, 231, 232, 233, 234]\n",
    "available_ds = [108]\n",
    "for i in available_ds:\n",
    "        file_out = str( str(i)+'e03')\n",
    "        run([cmd_call, '-i', str(i), 'em', '-o', file_out, '-s', '3'])\n",
    "        print( f'Currently generating {i}' )"
   ]
  }
 ]
}