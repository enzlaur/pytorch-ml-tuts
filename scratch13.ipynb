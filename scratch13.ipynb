{
 "metadata": {
  "language_info": {
   "codemirror_mode": {
    "name": "ipython",
    "version": 3
   },
   "file_extension": ".py",
   "mimetype": "text/x-python",
   "name": "python",
   "nbconvert_exporter": "python",
   "pygments_lexer": "ipython3",
   "version": "3.9.1-final"
  },
  "orig_nbformat": 2,
  "kernelspec": {
   "name": "python3",
   "display_name": "Python 3.9.1 64-bit",
   "metadata": {
    "interpreter": {
     "hash": "e922dd073470bdcc017ae3abd31d6491d6ed7bf31c1d559806e5511bfea88b81"
    }
   }
  }
 },
 "nbformat": 4,
 "nbformat_minor": 2,
 "cells": [
  {
   "cell_type": "code",
   "execution_count": 2,
   "metadata": {},
   "outputs": [],
   "source": [
    "import torch\n",
    "from torch import nn\n",
    "from torch.autograd import Variable\n",
    "from torch.utils.data import DataLoader, Dataset, random_split\n",
    "# Summary-like from Tensorflow\n",
    "# from torchinfo import summary\n",
    "# Import Numpy\n",
    "import numpy as np\n",
    "# Plot Import\n",
    "import matplotlib.pyplot as plt\n",
    "# For timer\n",
    "import time\n",
    "# Import OS\n",
    "import os\n",
    "from statistics import mean\n",
    "# WFDB\n",
    "import wfdb\n",
    "# ==== LOCAL LIBS ====\n",
    "import ecg_tools_lite as et\n",
    "import evaluator as eva\n",
    "import trainer as tr\n",
    "import models as mod\n",
    "# math\n",
    "import math"
   ]
  },
  {
   "cell_type": "code",
   "execution_count": 5,
   "metadata": {},
   "outputs": [],
   "source": [
    "class cnn_denoiser(nn.Module):\n",
    "    kernel_size = 19\n",
    "    pad_size = 9\n",
    "    def __init__(self):\n",
    "        super(cnn_denoiser, self).__init__()\n",
    "\n",
    "        self.denoiser = nn.Sequential(\n",
    "            nn.Conv1d(1, 36, kernel_size=kernel_size, stride=1, padding=pad_size),\n",
    "            nn.BatchNorm1d(36),\n",
    "            nn.ReLU(True),\n",
    "            nn.AvgPool1d(kernel_size=2, stride=4),\n",
    "\n",
    "            nn.Conv1d(36, 36, kernel_size=kernel_size, stride=1, padding=pad_size),\n",
    "            nn.BatchNorm1d(36),\n",
    "            nn.ReLU(True),\n",
    "            nn.AvgPool1d(kernel_size=2, stride=4),\n",
    "\n",
    "            nn.Conv1d(36, 36, kernel_size=kernel_size, stride=1, padding=pad_size),\n",
    "            nn.BatchNorm1d(36),\n",
    "            nn.ReLU(True),\n",
    "            nn.AvgPool1d(kernel_size=2, stride=4),\n",
    "\n",
    "            nn.Conv1d(36, 36, kernel_size=kernel_size, stride=1, padding=pad_size),\n",
    "            nn.BatchNorm1d(36),\n",
    "            nn.ReLU(True),\n",
    "            nn.AvgPool1d(kernel_size=2, stride=4),\n",
    "\n",
    "            nn.Conv1d(36, 36, kernel_size=kernel_size, stride=1, padding=pad_size),\n",
    "            nn.BatchNorm1d(36),\n",
    "            nn.ReLU(True),\n",
    "            nn.AvgPool1d(kernel_size=2, stride=4),\n",
    "\n",
    "            nn.Conv1d(36, 36, kernel_size=kernel_size, stride=1, padding=pad_size),\n",
    "            nn.BatchNorm1d(36),\n",
    "            nn.ReLU(True),\n",
    "            nn.AvgPool1d(kernel_size=2, stride=4)\n",
    "        )"
   ]
  }
 ]
}