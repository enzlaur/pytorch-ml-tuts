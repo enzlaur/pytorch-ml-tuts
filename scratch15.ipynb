{
 "metadata": {
  "language_info": {
   "codemirror_mode": {
    "name": "ipython",
    "version": 3
   },
   "file_extension": ".py",
   "mimetype": "text/x-python",
   "name": "python",
   "nbconvert_exporter": "python",
   "pygments_lexer": "ipython3",
   "version": "3.9.1-final"
  },
  "orig_nbformat": 2,
  "kernelspec": {
   "name": "python3",
   "display_name": "Python 3.9.1 64-bit",
   "metadata": {
    "interpreter": {
     "hash": "e922dd073470bdcc017ae3abd31d6491d6ed7bf31c1d559806e5511bfea88b81"
    }
   }
  }
 },
 "nbformat": 4,
 "nbformat_minor": 2,
 "cells": [
  {
   "cell_type": "code",
   "execution_count": 1,
   "metadata": {},
   "outputs": [],
   "source": [
    "import torch\n",
    "from torch import nn\n",
    "from torch.utils.data import DataLoader, Dataset, random_split\n",
    "\n",
    "# Import Numpy\n",
    "import numpy as np\n",
    "# For timer\n",
    "import time\n",
    "# Import OS\n",
    "import os\n",
    "\n",
    "# ==== LOCAL LIBS ====\n",
    "import ecg_tools_lite as et\n",
    "import evaluator as eva\n",
    "import trainer as tr\n",
    "import models as mod\n",
    "\n",
    "# Summary-like from Tensorflow\n",
    "from torchsummary import summary\n",
    "\n",
    "# wfdb\n",
    "import wfdb\n",
    "from wfdb import processing"
   ]
  },
  {
   "cell_type": "code",
   "execution_count": 2,
   "metadata": {},
   "outputs": [],
   "source": [
    "# What are you trying to do?\n",
    "create_new_model = False\n",
    "create_new_res = False\n",
    "\n",
    "# If create_new_model is True, epochs must have a value\n",
    "epochs = 10\n",
    "\n",
    "# Model used:\n",
    "model_net = mod.cnn_denoiser\n",
    "\n",
    "# If create_new_model is False, load_model_name must have a value\n",
    "load_model_name = 'model_2021-3-15_819.pt'\n",
    "ecg_saved_res = 'res_pt_full_DAE_all_em.npy' #'res_pt_full_2021-3-14_202.npy'\n",
    "\n",
    "# Normalization option (either option 0 or 1)\n",
    "norm_option = 2"
   ]
  },
  {
   "cell_type": "code",
   "execution_count": 3,
   "metadata": {},
   "outputs": [
    {
     "output_type": "stream",
     "name": "stdout",
     "text": [
      "New shape: torch.Size([5544, 1, 1024])\n"
     ]
    }
   ],
   "source": [
    "# For single SNR runs\n",
    "ecg_noisy = torch.from_numpy(np.load('all_none_fs1024_en6.npy')).cuda().double()\n",
    "ecg_clean = torch.from_numpy(np.load('all_none_fs1024_e24.npy')).cuda().double()\n",
    "\n",
    "# Acquire original shape\n",
    "x = ecg_noisy.shape[0]\n",
    "y = ecg_noisy.shape[2]\n",
    "z = ecg_noisy.shape[1]\n",
    "\n",
    "# Reshape\n",
    "ecg_noisy = torch.reshape( ecg_noisy, (x, y, z))\n",
    "ecg_clean = torch.reshape( ecg_clean, (x, y, z))\n",
    "\n",
    "print(f'New shape: {ecg_noisy.shape}')\n",
    "\n",
    "# == Normalization technique (Norm from -1 to 1)\n",
    "ecg_noisy = et.norm_sig( ecg_noisy )\n",
    "ecg_clean = et.norm_sig( ecg_clean )"
   ]
  },
  {
   "cell_type": "code",
   "execution_count": 4,
   "metadata": {},
   "outputs": [
    {
     "output_type": "stream",
     "name": "stdout",
     "text": [
      "Loading model model_2021-3-15_819.pt. (make sure name ends in .pt)\nModel model_2021-3-15_819.pt has been loaded\n"
     ]
    }
   ],
   "source": [
    "if create_new_model:\n",
    "    model = et.train_model( model=model_net,\n",
    "                            epochs=epochs,\n",
    "                            ecg_noisy=ecg_noisy,\n",
    "                            ecg_clean=ecg_clean)\n",
    "else:\n",
    "    model = et.load_model( model_name=load_model_name,\n",
    "                            model=model_net)"
   ]
  },
  {
   "cell_type": "code",
   "execution_count": 5,
   "metadata": {},
   "outputs": [
    {
     "output_type": "stream",
     "name": "stdout",
     "text": [
      "Result size: (1000, 1, 1024)\n",
      "Result size: (1000, 1, 1024)\n",
      "Result size: (1000, 1, 1024)\n",
      "Result size: (1000, 1, 1024)\n",
      "Result size: (1000, 1, 1024)\n",
      "Result size: (544, 1, 1024)\n",
      "Complete shape is: (5544, 1, 1024)\n",
      "Filename: res_pt_full_2021-3-15_819\n"
     ]
    }
   ],
   "source": [
    "if create_new_model == True or create_new_res == True:\n",
    "    ecg_res = et.concat_pt_full_cnn(model, ecg_noisy)\n",
    "    et.get_local_time()\n",
    "else:\n",
    "    ecg_res = np.load( ecg_saved_res )\n",
    "\n",
    "ecg_res = ecg_res.flatten()"
   ]
  },
  {
   "cell_type": "code",
   "execution_count": 6,
   "metadata": {},
   "outputs": [
    {
     "output_type": "stream",
     "name": "stdout",
     "text": [
      "Result size: (1000, 1, 1024)\n",
      "Result size: (1000, 1, 1024)\n",
      "Result size: (1000, 1, 1024)\n",
      "Result size: (1000, 1, 1024)\n",
      "Result size: (1000, 1, 1024)\n",
      "Result size: (544, 1, 1024)\n",
      "Complete shape is: (5544, 1, 1024)\n",
      "Filename: res_pt_full_2021-3-15_819\n",
      "SNR Improvement: 2.3747526383825255\n",
      "RMSE: 0.3907016224562534\n",
      "PRD: 7.117399755214856\n",
      "Elapsed time: 1067.47, (in mins: 17:47)\n"
     ]
    }
   ],
   "source": [
    "ecg_noisy = torch.from_numpy(np.load('all_none_fs1024_en6.npy')).cuda().double()\n",
    "ecg_noisy = torch.reshape( ecg_noisy, (x, y, z))\n",
    "ecg_noisy = et.norm_sig( ecg_noisy )\n",
    "\n",
    "ecg_res = et.concat_pt_full_cnn(model, ecg_noisy)\n",
    "ecg_res = torch.from_numpy(ecg_res).cuda()\n",
    "ecg_res = ecg_res.flatten()\n",
    "\n",
    "with torch.cuda.device(0):\n",
    "    evals = eva.get_eval_metrics(ecg_clean=ecg_clean.flatten(), ecg_noisy=ecg_noisy.flatten(), ecg_denoised=ecg_res)"
   ]
  },
  {
   "cell_type": "code",
   "execution_count": 5,
   "metadata": {},
   "outputs": [
    {
     "output_type": "stream",
     "name": "stdout",
     "text": [
      "Result size: (1000, 1, 1024)\n",
      "Result size: (1000, 1, 1024)\n",
      "Result size: (1000, 1, 1024)\n",
      "Result size: (1000, 1, 1024)\n",
      "Result size: (1000, 1, 1024)\n",
      "Result size: (544, 1, 1024)\n",
      "Complete shape is: (5544, 1, 1024)\n",
      "Filename: res_CNN_n6_00\n",
      "SNR Improvement: 1.5255433551445228\n",
      "RMSE: 0.3890334042583899\n",
      "PRD: 7.087009874265621\n",
      "Elapsed time: 1149.02, (in mins: 19:9)\n"
     ]
    }
   ],
   "source": [
    "ecg_noisy = torch.from_numpy(np.load('all_none_fs1024_e00.npy')).cuda().double()\n",
    "ecg_noisy = torch.reshape( ecg_noisy, (x, y, z))\n",
    "ecg_noisy = et.norm_sig( ecg_noisy )\n",
    "\n",
    "ecg_res = et.concat_pt_full_cnn(model, ecg_noisy, 'res_CNN_n6_00')\n",
    "ecg_res = torch.from_numpy(ecg_res).cuda()\n",
    "ecg_res = ecg_res.flatten()\n",
    "\n",
    "with torch.cuda.device(0):\n",
    "    evals = eva.get_eval_metrics(ecg_clean=ecg_clean.flatten(), ecg_noisy=ecg_noisy.flatten(), ecg_denoised=ecg_res)"
   ]
  },
  {
   "cell_type": "code",
   "execution_count": 6,
   "metadata": {},
   "outputs": [
    {
     "output_type": "stream",
     "name": "stdout",
     "text": [
      "Result size: (1000, 1, 1024)\n",
      "Result size: (1000, 1, 1024)\n",
      "Result size: (1000, 1, 1024)\n",
      "Result size: (1000, 1, 1024)\n",
      "Result size: (1000, 1, 1024)\n",
      "Result size: (544, 1, 1024)\n",
      "Complete shape is: (5544, 1, 1024)\n",
      "Filename: res_CNN_n6_06\n",
      "SNR Improvement: -0.6259723872149108\n",
      "RMSE: 0.39017563333493227\n",
      "PRD: 7.107817827144527\n",
      "Elapsed time: 1149.40, (in mins: 19:9)\n"
     ]
    }
   ],
   "source": [
    "ecg_noisy = torch.from_numpy(np.load('all_none_fs1024_e06.npy')).cuda().double()\n",
    "ecg_noisy = torch.reshape( ecg_noisy, (x, y, z))\n",
    "ecg_noisy = et.norm_sig( ecg_noisy )\n",
    "\n",
    "ecg_res = et.concat_pt_full_cnn(model, ecg_noisy, 'res_CNN_n6_06')\n",
    "ecg_res = torch.from_numpy(ecg_res).cuda()\n",
    "ecg_res = ecg_res.flatten()\n",
    "\n",
    "with torch.cuda.device(0):\n",
    "    evals = eva.get_eval_metrics(ecg_clean=ecg_clean.flatten(), ecg_noisy=ecg_noisy.flatten(), ecg_denoised=ecg_res)"
   ]
  },
  {
   "cell_type": "code",
   "execution_count": 7,
   "metadata": {},
   "outputs": [
    {
     "output_type": "stream",
     "name": "stdout",
     "text": [
      "Result size: (1000, 1, 1024)\n",
      "Result size: (1000, 1, 1024)\n",
      "Result size: (1000, 1, 1024)\n",
      "Result size: (1000, 1, 1024)\n",
      "Result size: (1000, 1, 1024)\n",
      "Result size: (544, 1, 1024)\n",
      "Complete shape is: (5544, 1, 1024)\n",
      "Filename: res_CNN_n6_06\n",
      "SNR Improvement: -5.056749601772749\n",
      "RMSE: 0.39422894623945776\n",
      "PRD: 7.1816569069341405\n",
      "Elapsed time: 1183.09, (in mins: 19:43)\n"
     ]
    }
   ],
   "source": [
    "ecg_noisy = torch.from_numpy(np.load('all_none_fs1024_e12.npy')).cuda().double()\n",
    "ecg_noisy = torch.reshape( ecg_noisy, (x, y, z))\n",
    "ecg_noisy = et.norm_sig( ecg_noisy )\n",
    "\n",
    "ecg_res = et.concat_pt_full_cnn(model, ecg_noisy, 'res_CNN_n6_06')\n",
    "ecg_res = torch.from_numpy(ecg_res).cuda()\n",
    "ecg_res = ecg_res.flatten()\n",
    "\n",
    "with torch.cuda.device(0):\n",
    "    evals = eva.get_eval_metrics(ecg_clean=ecg_clean.flatten(), ecg_noisy=ecg_noisy.flatten(), ecg_denoised=ecg_res)"
   ]
  },
  {
   "cell_type": "code",
   "execution_count": 5,
   "metadata": {},
   "outputs": [],
   "source": [
    "ecg_res = np.load('res_pt_full_2021-3-15_726.npy')"
   ]
  },
  {
   "cell_type": "code",
   "execution_count": 8,
   "metadata": {},
   "outputs": [
    {
     "output_type": "stream",
     "name": "stdout",
     "text": [
      "Learning initial signal parameters...\n",
      "Found 8 beats during learning. Initializing using learned parameters\n",
      "Running QRS detection...\n",
      "QRS detection complete.\n",
      "Learning initial signal parameters...\n",
      "Found 8 beats during learning. Initializing using learned parameters\n",
      "Running QRS detection...\n",
      "QRS detection complete.\n"
     ]
    }
   ],
   "source": [
    "eva.qrs_detector(ecg_clean.cpu().numpy().flatten(), ecg_noisy.cpu().numpy().flatten(), ecg_res.flatten())"
   ]
  }
 ]
}