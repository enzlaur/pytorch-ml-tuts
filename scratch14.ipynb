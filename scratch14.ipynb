{
 "metadata": {
  "language_info": {
   "codemirror_mode": {
    "name": "ipython",
    "version": 3
   },
   "file_extension": ".py",
   "mimetype": "text/x-python",
   "name": "python",
   "nbconvert_exporter": "python",
   "pygments_lexer": "ipython3",
   "version": "3.9.1-final"
  },
  "orig_nbformat": 2,
  "kernelspec": {
   "name": "python3",
   "display_name": "Python 3.9.1 64-bit",
   "metadata": {
    "interpreter": {
     "hash": "e922dd073470bdcc017ae3abd31d6491d6ed7bf31c1d559806e5511bfea88b81"
    }
   }
  }
 },
 "nbformat": 4,
 "nbformat_minor": 2,
 "cells": [
  {
   "cell_type": "code",
   "execution_count": 1,
   "metadata": {},
   "outputs": [],
   "source": [
    "import torch\n",
    "from torch import nn\n",
    "from torch.utils.data import DataLoader, Dataset, random_split\n",
    "\n",
    "# Import Numpy\n",
    "import numpy as np\n",
    "# For timer\n",
    "import time\n",
    "# Import OS\n",
    "import os\n",
    "\n",
    "# ==== LOCAL LIBS ====\n",
    "import ecg_tools_lite as et\n",
    "import evaluator as eva\n",
    "import trainer as tr\n",
    "import models as mod\n",
    "\n",
    "# Summary-like from Tensorflow\n",
    "from torchsummary import summary"
   ]
  },
  {
   "cell_type": "code",
   "execution_count": 2,
   "metadata": {},
   "outputs": [],
   "source": [
    "# What are you trying to do?\n",
    "create_new_model = False\n",
    "create_new_res = False\n",
    "\n",
    "# If create_new_model is True, epochs must have a value\n",
    "epochs = 10\n",
    "\n",
    "# Model used:\n",
    "model_net = mod.ae_sampler\n",
    "\n",
    "# If create_new_model is False, load_model_name must have a value\n",
    "load_model_name = 'model_2021-3-14_150.pt'\n",
    "ecg_saved_res = 'res_pt_full_2021-3-14_202.npy'\n",
    "\n",
    "# Normalization option (either option 0 or 1)\n",
    "norm_option = 2"
   ]
  },
  {
   "cell_type": "code",
   "execution_count": 3,
   "metadata": {},
   "outputs": [],
   "source": [
    "# # combine the ultimate noise thing\n",
    "# ecg_n6 = np.load('all_none_fs1024_en6.npy')\n",
    "# ecg_00 = np.load('all_none_fs1024_e00.npy')\n",
    "# ecg_06 = np.load('all_none_fs1024_e06.npy')\n",
    "# ecg_12 = np.load('all_none_fs1024_e12.npy')\n",
    "# ecg_18 = np.load('all_none_fs1024_e18.npy')\n",
    "# ecg_24 = np.load('all_none_fs1024_e24.npy')\n",
    "\n",
    "# ecg_noisy = np.concatenate((ecg_n6, ecg_00, ecg_06, ecg_12, ecg_18, ecg_24))\n",
    "# ecg_clean = np.concatenate((ecg_24, ecg_24, ecg_24, ecg_24, ecg_24, ecg_24))\n",
    "# np.save('all_clean_em', ecg_clean)"
   ]
  },
  {
   "cell_type": "code",
   "execution_count": 4,
   "metadata": {},
   "outputs": [
    {
     "output_type": "stream",
     "name": "stdout",
     "text": [
      "New shape: torch.Size([33264, 1, 1024])\n"
     ]
    }
   ],
   "source": [
    "ecg_noisy = torch.from_numpy(np.load('all_noise_em.npy')).cuda().double()\n",
    "ecg_clean = torch.from_numpy(np.load('all_clean_em.npy')).cuda().double()\n",
    "\n",
    "# Acquire original shape\n",
    "x = ecg_noisy.shape[0]\n",
    "y = ecg_noisy.shape[2]\n",
    "z = ecg_noisy.shape[1]\n",
    "\n",
    "# Reshape\n",
    "ecg_noisy = torch.reshape( ecg_noisy, (x, y, z))\n",
    "ecg_clean = torch.reshape( ecg_clean, (x, y, z))\n",
    "\n",
    "print(f'New shape: {ecg_noisy.shape}')\n",
    "\n",
    "# == Normalization technique (Norm from -1 to 1)\n",
    "ecg_noisy = et.norm_sig( ecg_noisy )\n",
    "ecg_clean = et.norm_sig( ecg_clean )"
   ]
  },
  {
   "cell_type": "code",
   "execution_count": 5,
   "metadata": {},
   "outputs": [
    {
     "output_type": "stream",
     "name": "stdout",
     "text": [
      "train_size[26611] + valid_size[6653]= 33264\n",
      "same size\n",
      "Epoch 1 of 10 || time: 434.90 || loss = 0.1198025223014135\n",
      "Epoch 2 of 10 || time: 464.34 || loss = 0.10028949718295589\n",
      "Epoch 3 of 10 || time: 567.08 || loss = 0.09803775082469599\n",
      "Epoch 4 of 10 || time: 511.07 || loss = 0.09658521927716855\n",
      "Epoch 5 of 10 || time: 557.52 || loss = 0.0952991406029814\n",
      "Epoch 6 of 10 || time: 553.42 || loss = 0.09339121775303696\n",
      "Epoch 7 of 10 || time: 526.62 || loss = 0.09263021453216269\n",
      "Epoch 8 of 10 || time: 570.54 || loss = 0.09205506802113116\n",
      "Epoch 9 of 10 || time: 557.57 || loss = 0.0915188709365473\n",
      "Epoch 10 of 10 || time: 572.10 || loss = 0.09113226381556154\n",
      "Elapsed time: 5315.19, (in mins: 88:35)\n",
      "Validation dataset has not been used: Available validex set size = 6653\n",
      "Saved model_2021-3-14_452.pt\n"
     ]
    }
   ],
   "source": [
    "if create_new_model:\n",
    "    model = et.train_model( model=model_net,\n",
    "                            epochs=epochs,\n",
    "                            ecg_noisy=ecg_noisy,\n",
    "                            ecg_clean=ecg_clean)\n",
    "else:\n",
    "    model = et.load_model( model_name=load_model_name,\n",
    "                            model=model_net)"
   ]
  },
  {
   "cell_type": "code",
   "execution_count": 6,
   "metadata": {},
   "outputs": [],
   "source": [
    "# summary( model )"
   ]
  },
  {
   "cell_type": "code",
   "execution_count": 7,
   "metadata": {},
   "outputs": [
    {
     "output_type": "stream",
     "name": "stdout",
     "text": [
      "Result size: (2000, 1, 1024)\n",
      "Result size: (2000, 1, 1024)\n",
      "Result size: (2000, 1, 1024)\n",
      "Result size: (2000, 1, 1024)\n",
      "Result size: (2000, 1, 1024)\n",
      "Result size: (2000, 1, 1024)\n",
      "Result size: (2000, 1, 1024)\n",
      "Result size: (2000, 1, 1024)\n",
      "Result size: (2000, 1, 1024)\n",
      "Result size: (2000, 1, 1024)\n",
      "Result size: (2000, 1, 1024)\n",
      "Result size: (2000, 1, 1024)\n",
      "Result size: (2000, 1, 1024)\n",
      "Result size: (2000, 1, 1024)\n",
      "Result size: (2000, 1, 1024)\n",
      "Result size: (2000, 1, 1024)\n",
      "Result size: (2000, 1, 1024)\n",
      "Result size: (1264, 1, 1024)\n",
      "Complete shape is: (35264, 1, 1024)\n",
      "Filename: res_pt_full_2021-3-14_452\n"
     ]
    }
   ],
   "source": [
    "if create_new_model == True or create_new_res == True:\n",
    "    ecg_res = et.concat_pt_full(model, ecg_noisy)\n",
    "    et.get_local_time()\n",
    "else:\n",
    "    ecg_res = np.load( ecg_saved_res )\n",
    "\n",
    "ecg_res = ecg_res.flatten()"
   ]
  },
  {
   "cell_type": "code",
   "execution_count": 8,
   "metadata": {},
   "outputs": [],
   "source": [
    "# Move to tensor for CUDA to compute\n",
    "\n",
    "ecg_res = torch.from_numpy( ecg_res )\n",
    "ecg_res = ecg_res.cuda()"
   ]
  },
  {
   "cell_type": "code",
   "execution_count": 9,
   "metadata": {},
   "outputs": [
    {
     "output_type": "execute_result",
     "data": {
      "text/plain": [
       "tensor([-0.3436, -0.3688, -0.4000,  ..., -0.5196, -0.4837, -0.4412],\n",
       "       device='cuda:0', dtype=torch.float64)"
      ]
     },
     "metadata": {},
     "execution_count": 9
    }
   ],
   "source": [
    "ecg_res"
   ]
  },
  {
   "cell_type": "code",
   "execution_count": 10,
   "metadata": {},
   "outputs": [],
   "source": [
    "with torch.cuda.device(0):\n",
    "    evals = eva.get_eval_metrics(ecg_clean=ecg_clean.flatten(), ecg_noisy=ecg_noisy.flatten(), ecg_denoised=ecg_res)"
   ]
  }
 ]
}