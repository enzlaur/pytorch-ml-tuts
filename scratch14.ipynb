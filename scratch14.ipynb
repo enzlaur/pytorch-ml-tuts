{
 "metadata": {
  "language_info": {
   "codemirror_mode": {
    "name": "ipython",
    "version": 3
   },
   "file_extension": ".py",
   "mimetype": "text/x-python",
   "name": "python",
   "nbconvert_exporter": "python",
   "pygments_lexer": "ipython3",
   "version": "3.9.1-final"
  },
  "orig_nbformat": 2,
  "kernelspec": {
   "name": "python3",
   "display_name": "Python 3.9.1 64-bit",
   "metadata": {
    "interpreter": {
     "hash": "e922dd073470bdcc017ae3abd31d6491d6ed7bf31c1d559806e5511bfea88b81"
    }
   }
  }
 },
 "nbformat": 4,
 "nbformat_minor": 2,
 "cells": [
  {
   "cell_type": "code",
   "execution_count": 1,
   "metadata": {},
   "outputs": [],
   "source": [
    "import torch\n",
    "from torch import nn\n",
    "from torch.utils.data import DataLoader, Dataset, random_split\n",
    "\n",
    "# Import Numpy\n",
    "import numpy as np\n",
    "# For timer\n",
    "import time\n",
    "# Import OS\n",
    "import os\n",
    "\n",
    "# ==== LOCAL LIBS ====\n",
    "import ecg_tools_lite as et\n",
    "import evaluator as eva\n",
    "import trainer as tr\n",
    "import models as mod\n",
    "\n",
    "# Summary-like from Tensorflow\n",
    "from torchsummary import summary"
   ]
  },
  {
   "cell_type": "code",
   "execution_count": 2,
   "metadata": {},
   "outputs": [],
   "source": [
    "# What are you trying to do?\n",
    "create_new_model = True\n",
    "create_new_res = True\n",
    "\n",
    "# If create_new_model is True, epochs must have a value\n",
    "epochs = 10\n",
    "\n",
    "# Model used:\n",
    "model_net = mod.ae_sampler\n",
    "\n",
    "# If create_new_model is False, load_model_name must have a value\n",
    "load_model_name = 'model_2021-3-13_1745.pt'\n",
    "ecg_saved_res = 'res_pt_full.npy'\n",
    "\n",
    "# Normalization option (either option 0 or 1)\n",
    "norm_option = 2"
   ]
  },
  {
   "cell_type": "code",
   "execution_count": 3,
   "metadata": {},
   "outputs": [
    {
     "output_type": "stream",
     "name": "stdout",
     "text": [
      "New shape: torch.Size([5544, 1, 1024])\n"
     ]
    }
   ],
   "source": [
    "ecg_noisy = torch.from_numpy(np.load('all_none_fs1024_e06.npy')).cuda().double()\n",
    "ecg_clean = torch.from_numpy(np.load('all_none_fs1024_e24.npy')).cuda().double()\n",
    "\n",
    "# Acquire original shape\n",
    "x = ecg_noisy.shape[0]\n",
    "y = ecg_noisy.shape[2]\n",
    "z = ecg_noisy.shape[1]\n",
    "\n",
    "# Reshape\n",
    "ecg_noisy = torch.reshape( ecg_noisy, (x, y, z))\n",
    "ecg_clean = torch.reshape( ecg_clean, (x, y, z))\n",
    "\n",
    "print(f'New shape: {ecg_noisy.shape}')\n",
    "\n",
    "# == Normalization technique (Norm from -1 to 1)\n",
    "ecg_noisy = et.norm_sig( ecg_noisy )\n",
    "ecg_clean = et.norm_sig( ecg_clean )"
   ]
  },
  {
   "cell_type": "code",
   "execution_count": 4,
   "metadata": {},
   "outputs": [
    {
     "output_type": "stream",
     "name": "stdout",
     "text": [
      "train_size[4435] + valid_size[1109]= 5544\n",
      "same size\n",
      "C:\\python\\lib\\site-packages\\torch\\nn\\modules\\loss.py:446: UserWarning: Using a target size (torch.Size([1, 1, 1024])) that is different to the input size (torch.Size([1, 36, 1024])). This will likely lead to incorrect results due to broadcasting. Please ensure they have the same size.\n",
      "  return F.mse_loss(input, target, reduction=self.reduction)\n",
      "Epoch 1 of 10 || time: 99.10 || loss = 0.11277087180421996\n",
      "Epoch 2 of 10 || time: 95.09 || loss = 0.0748587668583345\n",
      "Epoch 3 of 10 || time: 94.31 || loss = 0.06491209361518872\n",
      "Epoch 4 of 10 || time: 93.12 || loss = 0.05943751961547808\n",
      "Epoch 5 of 10 || time: 91.31 || loss = 0.054823361060331345\n",
      "Epoch 6 of 10 || time: 90.87 || loss = 0.0525316627953392\n",
      "Epoch 7 of 10 || time: 95.55 || loss = 0.049767125295490044\n",
      "Epoch 8 of 10 || time: 95.64 || loss = 0.0480944087646721\n",
      "Epoch 9 of 10 || time: 95.54 || loss = 0.04583718630478314\n",
      "Epoch 10 of 10 || time: 95.70 || loss = 0.044465147921725706\n",
      "Elapsed time: 946.24, (in mins: 15:46)\n",
      "Validation dataset has not been used: Available validex set size = 1109\n"
     ]
    },
    {
     "output_type": "error",
     "ename": "NameError",
     "evalue": "name 'et' is not defined",
     "traceback": [
      "\u001b[1;31m---------------------------------------------------------------------------\u001b[0m",
      "\u001b[1;31mNameError\u001b[0m                                 Traceback (most recent call last)",
      "\u001b[1;32m<ipython-input-4-d8c80b4a02e4>\u001b[0m in \u001b[0;36m<module>\u001b[1;34m\u001b[0m\n\u001b[0;32m      1\u001b[0m \u001b[1;32mif\u001b[0m \u001b[0mcreate_new_model\u001b[0m\u001b[1;33m:\u001b[0m\u001b[1;33m\u001b[0m\u001b[1;33m\u001b[0m\u001b[0m\n\u001b[1;32m----> 2\u001b[1;33m     model = et.train_model( model=mod.cnn_denoiser,\n\u001b[0m\u001b[0;32m      3\u001b[0m                             \u001b[0mepochs\u001b[0m\u001b[1;33m=\u001b[0m\u001b[0mepochs\u001b[0m\u001b[1;33m,\u001b[0m\u001b[1;33m\u001b[0m\u001b[1;33m\u001b[0m\u001b[0m\n\u001b[0;32m      4\u001b[0m                             \u001b[0mecg_noisy\u001b[0m\u001b[1;33m=\u001b[0m\u001b[0mecg_noisy\u001b[0m\u001b[1;33m,\u001b[0m\u001b[1;33m\u001b[0m\u001b[1;33m\u001b[0m\u001b[0m\n\u001b[0;32m      5\u001b[0m                             ecg_clean=ecg_clean)\n",
      "\u001b[1;32mc:\\Users\\laure\\Developer\\pytorch-ml-tuts\\ecg_tools_lite.py\u001b[0m in \u001b[0;36mtrain_model\u001b[1;34m(model, epochs, ecg_noisy, ecg_clean, train_pct)\u001b[0m\n\u001b[0;32m    296\u001b[0m                     train_pct=train_pct)\n\u001b[0;32m    297\u001b[0m \u001b[1;33m\u001b[0m\u001b[0m\n\u001b[1;32m--> 298\u001b[1;33m     \u001b[0msave_file_name\u001b[0m \u001b[1;33m=\u001b[0m \u001b[1;34m'model_'\u001b[0m \u001b[1;33m+\u001b[0m \u001b[0mstr\u001b[0m\u001b[1;33m(\u001b[0m\u001b[0met\u001b[0m\u001b[1;33m.\u001b[0m\u001b[0mget_local_time\u001b[0m\u001b[1;33m(\u001b[0m\u001b[1;33m)\u001b[0m\u001b[1;33m)\u001b[0m \u001b[1;33m+\u001b[0m \u001b[1;34m'.pt'\u001b[0m\u001b[1;33m;\u001b[0m\u001b[1;33m\u001b[0m\u001b[1;33m\u001b[0m\u001b[0m\n\u001b[0m\u001b[0;32m    299\u001b[0m \u001b[1;33m\u001b[0m\u001b[0m\n\u001b[0;32m    300\u001b[0m     \u001b[1;31m# saved model will have model_YYYY-MM-DD_hhmm.pt format\u001b[0m\u001b[1;33m\u001b[0m\u001b[1;33m\u001b[0m\u001b[1;33m\u001b[0m\u001b[0m\n",
      "\u001b[1;31mNameError\u001b[0m: name 'et' is not defined"
     ]
    }
   ],
   "source": [
    "if create_new_model:\n",
    "    model = et.train_model( model=model_net,\n",
    "                            epochs=epochs,\n",
    "                            ecg_noisy=ecg_noisy,\n",
    "                            ecg_clean=ecg_clean)\n",
    "else:\n",
    "    model = et.load_model( model_name=load_model_name,\n",
    "                            model=model_net)"
   ]
  }
 ]
}