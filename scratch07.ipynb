{
 "metadata": {
  "language_info": {
   "codemirror_mode": {
    "name": "ipython",
    "version": 3
   },
   "file_extension": ".py",
   "mimetype": "text/x-python",
   "name": "python",
   "nbconvert_exporter": "python",
   "pygments_lexer": "ipython3",
   "version": "3.8.6-final"
  },
  "orig_nbformat": 2,
  "kernelspec": {
   "name": "python3",
   "display_name": "Python 3"
  }
 },
 "nbformat": 4,
 "nbformat_minor": 2,
 "cells": [
  {
   "cell_type": "code",
   "execution_count": 2,
   "metadata": {},
   "outputs": [],
   "source": [
    "import torch\n",
    "from torch import nn\n",
    "from torch.autograd import Variable\n",
    "from torch.utils.data import DataLoader, Dataset, random_split\n",
    "\n",
    "# Summary-like from Tensorflow\n",
    "from torchsummary import summary\n",
    "\n",
    "# Import Numpy\n",
    "import numpy as np\n",
    "# Plot Import\n",
    "import matplotlib.pyplot as plt\n",
    "# For timer\n",
    "import time\n",
    "# Import OS\n",
    "import os\n",
    "# import local libs\n",
    "import ecg_tools_lite as et\n",
    "\n",
    "from statistics import mean\n",
    "\n",
    "# WFDB\n",
    "import wfdb\n",
    "\n",
    "if not os.path.exists('./mlp_img'):\n",
    "    os.mkdir('./mlp_img')"
   ]
  },
  {
   "cell_type": "code",
   "execution_count": 3,
   "metadata": {},
   "outputs": [],
   "source": [
    "ecg_modded_06, ecg_untouched_06 = et.get_ecg_with_split('118e06', samp_freq=1024, norm_type='')\n",
    "ecg_modded_24, ecg_untouched_24 = et.get_ecg_with_split('118e24', samp_freq=1024, norm_type='')"
   ]
  },
  {
   "cell_type": "code",
   "execution_count": 9,
   "metadata": {},
   "outputs": [],
   "source": [
    "sample = torch.from_numpy(ecg_modded_06)"
   ]
  },
  {
   "cell_type": "code",
   "execution_count": 18,
   "metadata": {},
   "outputs": [
    {
     "output_type": "stream",
     "name": "stdout",
     "text": [
      "-6.653124534970238\n1.0670778518330393\n-10.925\n-2.07\n"
     ]
    }
   ],
   "source": [
    "mean = ecg_modded_06.mean()\n",
    "std = ecg_modded_06.std()\n",
    "min_val = ecg_modded_06.min()\n",
    "max_val = ecg_modded_06.max()\n",
    "print( mean )\n",
    "print( std )\n",
    "print( min_val )\n",
    "print( max_val )\n",
    "\n"
   ]
  },
  {
   "source": [
    "Go read this article: \n",
    "https://stats.stackexchange.com/questions/178626/how-to-normalize-data-between-1-and-1"
   ],
   "cell_type": "markdown",
   "metadata": {}
  },
  {
   "cell_type": "code",
   "execution_count": null,
   "metadata": {},
   "outputs": [],
   "source": []
  }
 ]
}