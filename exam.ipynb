{
 "metadata": {
  "language_info": {
   "codemirror_mode": {
    "name": "ipython",
    "version": 3
   },
   "file_extension": ".py",
   "mimetype": "text/x-python",
   "name": "python",
   "nbconvert_exporter": "python",
   "pygments_lexer": "ipython3",
   "version": "3.9.1-final"
  },
  "orig_nbformat": 2,
  "kernelspec": {
   "name": "python3",
   "display_name": "Python 3.9.1 64-bit",
   "metadata": {
    "interpreter": {
     "hash": "e922dd073470bdcc017ae3abd31d6491d6ed7bf31c1d559806e5511bfea88b81"
    }
   }
  }
 },
 "nbformat": 4,
 "nbformat_minor": 2,
 "cells": [
  {
   "cell_type": "code",
   "execution_count": 228,
   "metadata": {},
   "outputs": [],
   "source": [
    "# Import Numpy\n",
    "import numpy as np\n",
    "# For timer\n",
    "import time\n",
    "# Import OS\n",
    "import os\n",
    "# Import math\n",
    "import math\n",
    "\n",
    "import random"
   ]
  },
  {
   "cell_type": "code",
   "execution_count": 171,
   "metadata": {},
   "outputs": [
    {
     "output_type": "stream",
     "name": "stdout",
     "text": [
      "[-3, -2]\nanswer is 1\n"
     ]
    }
   ],
   "source": [
    "# A = [1, 1, 1, 1, 1]\n",
    "# A = [1, 1]\n",
    "# A = [1,2,3]\n",
    "# A = [0]\n",
    "# A = [2, 2, 5, 3, 1]\n",
    "# A = [2]\n",
    "# A = [2, 1]\n",
    "A = [-3, -2]\n",
    "\n",
    "import numpy as np \n",
    "\n",
    "def solution(A):\n",
    "    # write your code in Python 3.6    \n",
    "    A.sort()\n",
    "        \n",
    "    for i in range( 0, len(A) ):\n",
    "        i = i + 1\n",
    "        for k, item in enumerate(A):\n",
    "            k = k + 1 # for comparing with len(A) only\n",
    "            # compare if items are same\n",
    "            if i == item:\n",
    "                break #skip to next loop\n",
    "            elif i < item:\n",
    "                return i;\n",
    "        # if all numbers are exhausted\n",
    "        if i == len(A):\n",
    "            # get last element and add 1\n",
    "            if A[i-1] > 0:\n",
    "                return A[i-1] + 1\n",
    "            else:\n",
    "                return 1\n",
    "\n",
    "print(f'answer is {solution(A)}')\n",
    "\n"
   ]
  },
  {
   "cell_type": "code",
   "execution_count": 179,
   "metadata": {},
   "outputs": [
    {
     "output_type": "stream",
     "name": "stdout",
     "text": [
      "answer is 4\n"
     ]
    }
   ],
   "source": [
    "# A = [1, 1, 1, 1, 1]\n",
    "# A = [1, 1]\n",
    "# A = [1,2,3]\n",
    "# A = [0]\n",
    "A = [2, 2, 5, 3, 1]\n",
    "\n",
    "import numpy as np \n",
    "\n",
    "def solution(A):\n",
    "    # write your code in Python 3.6    \n",
    "    A.sort()\n",
    "    min = 1\n",
    "    \n",
    "    for i in A:\n",
    "        if min == i:\n",
    "            min = min + 1\n",
    "    return min\n",
    "\n",
    "print(f'answer is {solution(A)}')\n",
    "\n"
   ]
  },
  {
   "source": [
    "A binary gap within a positive integer N is any maximal sequence of consecutive zeros that is surrounded by ones at both ends in the binary representation of N.\n",
    "\n",
    "For example, number 9 has binary representation 1001 and contains a binary gap of length 2. The number 529 has binary representation 1000010001 and contains two binary gaps: one of length 4 and one of length 3. The number 20 has binary representation 10100 and contains one binary gap of length 1. The number 15 has binary representation 1111 and has no binary gaps. The number 32 has binary representation 100000 and has no binary gaps.\n",
    "\n",
    "Write a function:\n",
    "\n",
    "def solution(N)\n",
    "\n",
    "that, given a positive integer N, returns the length of its longest binary gap. The function should return 0 if N doesn't contain a binary gap.\n",
    "\n",
    "For example, given N = 1041 the function should return 5, because N has binary representation 10000010001 and so its longest binary gap is of length 5. Given N = 32 the function should return 0, because N has binary representation '100000' and thus no binary gaps.\n",
    "\n",
    "Write an efficient algorithm for the following assumptions:\n",
    "\n",
    "N is an integer within the range [1..2,147,483,647].\n",
    "\n",
    "Copyright 2009–2021 by Codility Limited. All Rights Reserved. Unauthorized copying, publication or disclosure prohibited."
   ],
   "cell_type": "markdown",
   "metadata": {}
  },
  {
   "cell_type": "code",
   "execution_count": 225,
   "metadata": {},
   "outputs": [
    {
     "output_type": "stream",
     "name": "stdout",
     "text": [
      "x: 10000010001\ny: ['', '00000', '000', '']\nAnswer is: 5\n"
     ]
    }
   ],
   "source": [
    "\n",
    "N = 1041\n",
    "# N = 32\n",
    "\n",
    "def solution(N):\n",
    "    def get_bin_ver(N):\n",
    "        x = \"\" + str(bin(N))\n",
    "        x = x.split('b')\n",
    "        x = x[1]\n",
    "        return x\n",
    "    x = get_bin_ver(N)\n",
    "    print( f'x: {x}')\n",
    "    y = x.split('1')\n",
    "    print( f'y: {y}')\n",
    "    min = 0\n",
    "    min_i = 0\n",
    "    \n",
    "    for i, data in enumerate(y):\n",
    "        if len(data) > min and i < len(y)-1:\n",
    "            min = len(data)\n",
    "            min_i = i\n",
    "\n",
    "    return min\n",
    "\n",
    "print(f'Answer is: {solution(N)}')"
   ]
  },
  {
   "cell_type": "code",
   "execution_count": null,
   "metadata": {},
   "outputs": [],
   "source": []
  },
  {
   "cell_type": "code",
   "execution_count": 241,
   "metadata": {},
   "outputs": [],
   "source": [
    "A=1\n",
    "B=2\n",
    "C=3\n",
    "D=4\n",
    "\n",
    "def solution(A, B, C, D):\n",
    "    possible = 0\n",
    "    hours = 0\n",
    "\n",
    "    time = [A, B, C, D]\n",
    "    time.sort()\n",
    "    \n",
    "    if A < 2:\n",
    "        hours = hours + 1\n",
    "        if B > 4:\n",
    "            return 0\n",
    "        \n",
    "    \n",
    "solution(A, B, C, D)"
   ]
  },
  {
   "cell_type": "code",
   "execution_count": 276,
   "metadata": {},
   "outputs": [],
   "source": [
    "from itertools import permutations"
   ]
  },
  {
   "cell_type": "code",
   "execution_count": 339,
   "metadata": {},
   "outputs": [
    {
     "output_type": "stream",
     "name": "stdout",
     "text": [
      " results \n(2, 3, 4, 0)\n(0, 3, 4, 2)\n(0, 2, 4, 3)\n(2, 0, 4, 3)\n(2, 0, 3, 4)\n(0, 2, 3, 4)\n(0, 4, 3, 2)\n(0, 3, 2, 4)\n(2, 4, 3, 0)\n(2, 3, 0, 4)\n(0, 4, 2, 3)\n(2, 4, 0, 3)\n"
     ]
    },
    {
     "output_type": "execute_result",
     "data": {
      "text/plain": [
       "12"
      ]
     },
     "metadata": {},
     "execution_count": 339
    }
   ],
   "source": [
    "A=2\n",
    "B=4\n",
    "C=3\n",
    "D=0\n",
    "\n",
    "def solution(A, B, C, D):\n",
    "    count = 0\n",
    "    head = 0\n",
    "    perm = permutations([A, B, C, D])\n",
    "\n",
    "    print(\" results \")\n",
    "    for i in set(perm):\n",
    "        if i[0] <= 1:\n",
    "            if i[1] <= 9:\n",
    "                if i[2] < 6:\n",
    "                    count = count + 1\n",
    "                    print( i )\n",
    "                    \n",
    "        elif i[0] == 2:\n",
    "            if i[1] <= 4:\n",
    "                if i[2] < 6:\n",
    "                    count = count + 1\n",
    "                    print( i )\n",
    "    \n",
    "    \n",
    "    return count\n",
    "\n",
    "\n",
    "\n",
    "solution(A, B, C, D)"
   ]
  },
  {
   "cell_type": "code",
   "execution_count": 334,
   "metadata": {},
   "outputs": [
    {
     "output_type": "stream",
     "name": "stdout",
     "text": [
      "0\n"
     ]
    }
   ],
   "source": [
    "x = 2\n",
    "x = x >> 2\n",
    "print( x )"
   ]
  }
 ]
}